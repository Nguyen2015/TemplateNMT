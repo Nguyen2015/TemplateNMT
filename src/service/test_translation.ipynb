{
 "cells": [
  {
   "cell_type": "code",
   "execution_count": 14,
   "metadata": {},
   "outputs": [],
   "source": [
    "from fairseq.models.transformer import TransformerModel\n",
    "deen_transformer_model = TransformerModel.from_pretrained(\n",
    "    '/home/s1920413/syntaxNMT/data/iwslt14deen/org-deen-sota/',\n",
    "    checkpoint_file='averaged_5best.pt',\n",
    "    data_name_or_path='./data-bin/',\n",
    "    bpe='subword_nmt',\n",
    "    bpe_codes='./../code'\n",
    ")\n",
    " "
   ]
  },
  {
   "cell_type": "code",
   "execution_count": 8,
   "metadata": {},
   "outputs": [
    {
     "data": {
      "text/plain": [
       "'we &apos;re all born . we bring children to the world .'"
      ]
     },
     "execution_count": 8,
     "metadata": {},
     "output_type": "execute_result"
    }
   ],
   "source": [
    "deen_transformer_model.translate('wir werden alle geboren . wir bringen kinder zur welt .')"
   ]
  },
  {
   "cell_type": "code",
   "execution_count": null,
   "metadata": {},
   "outputs": [],
   "source": [
    "we &apos;re all born . we bring children to the world .\n"
   ]
  }
 ],
 "metadata": {
  "interpreter": {
   "hash": "1e4ad6ecfca481b85606af1a4b5cbc1bd248b047f9bcd8ae3604b4d261b96fc3"
  },
  "kernelspec": {
   "display_name": "Python 3.8.10 64-bit ('fairseq-custom2': conda)",
   "name": "python3"
  },
  "language_info": {
   "codemirror_mode": {
    "name": "ipython",
    "version": 3
   },
   "file_extension": ".py",
   "mimetype": "text/x-python",
   "name": "python",
   "nbconvert_exporter": "python",
   "pygments_lexer": "ipython3",
   "version": "3.8.10"
  },
  "orig_nbformat": 4
 },
 "nbformat": 4,
 "nbformat_minor": 2
}
